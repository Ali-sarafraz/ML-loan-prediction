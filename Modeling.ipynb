{
 "cells": [
  {
   "cell_type": "markdown",
   "id": "e20e394a",
   "metadata": {},
   "source": [
    "## Objective:\n",
    "The goal is to build a machine learning system to automatically evaluate whether a person is eligible for a loan or not."
   ]
  },
  {
   "cell_type": "markdown",
   "id": "6187bda2",
   "metadata": {},
   "source": [
    "Importing Nececcery Libar"
   ]
  },
  {
   "cell_type": "code",
   "execution_count": 1,
   "id": "11401ac1",
   "metadata": {},
   "outputs": [],
   "source": [
    "import numpy as np\n",
    "import pandas as pd\n",
    "import matplotlib.pyplot as plt\n",
    "import seaborn as sns"
   ]
  },
  {
   "cell_type": "markdown",
   "id": "dd2f3eb7",
   "metadata": {},
   "source": [
    "### Preprocessing"
   ]
  },
  {
   "cell_type": "markdown",
   "id": "fff7a3a4",
   "metadata": {},
   "source": [
    "Load Data"
   ]
  },
  {
   "cell_type": "code",
   "execution_count": 2,
   "id": "1139ae26",
   "metadata": {},
   "outputs": [
    {
     "data": {
      "text/html": [
       "<div>\n",
       "<style scoped>\n",
       "    .dataframe tbody tr th:only-of-type {\n",
       "        vertical-align: middle;\n",
       "    }\n",
       "\n",
       "    .dataframe tbody tr th {\n",
       "        vertical-align: top;\n",
       "    }\n",
       "\n",
       "    .dataframe thead th {\n",
       "        text-align: right;\n",
       "    }\n",
       "</style>\n",
       "<table border=\"1\" class=\"dataframe\">\n",
       "  <thead>\n",
       "    <tr style=\"text-align: right;\">\n",
       "      <th></th>\n",
       "      <th>Gender</th>\n",
       "      <th>Married</th>\n",
       "      <th>Dependents</th>\n",
       "      <th>Education</th>\n",
       "      <th>Self_Employed</th>\n",
       "      <th>ApplicantIncome</th>\n",
       "      <th>CoapplicantIncome</th>\n",
       "      <th>LoanAmount</th>\n",
       "      <th>Loan_Amount_Term</th>\n",
       "      <th>Credit_History</th>\n",
       "      <th>Property_Area</th>\n",
       "      <th>Loan_Status</th>\n",
       "    </tr>\n",
       "  </thead>\n",
       "  <tbody>\n",
       "    <tr>\n",
       "      <th>0</th>\n",
       "      <td>Male</td>\n",
       "      <td>No</td>\n",
       "      <td>0</td>\n",
       "      <td>Graduate</td>\n",
       "      <td>No</td>\n",
       "      <td>5849</td>\n",
       "      <td>0.0</td>\n",
       "      <td>NaN</td>\n",
       "      <td>360.0</td>\n",
       "      <td>1.0</td>\n",
       "      <td>Urban</td>\n",
       "      <td>Y</td>\n",
       "    </tr>\n",
       "    <tr>\n",
       "      <th>1</th>\n",
       "      <td>Male</td>\n",
       "      <td>Yes</td>\n",
       "      <td>1</td>\n",
       "      <td>Graduate</td>\n",
       "      <td>No</td>\n",
       "      <td>4583</td>\n",
       "      <td>1508.0</td>\n",
       "      <td>128.0</td>\n",
       "      <td>360.0</td>\n",
       "      <td>1.0</td>\n",
       "      <td>Rural</td>\n",
       "      <td>N</td>\n",
       "    </tr>\n",
       "    <tr>\n",
       "      <th>2</th>\n",
       "      <td>Male</td>\n",
       "      <td>Yes</td>\n",
       "      <td>0</td>\n",
       "      <td>Graduate</td>\n",
       "      <td>Yes</td>\n",
       "      <td>3000</td>\n",
       "      <td>0.0</td>\n",
       "      <td>66.0</td>\n",
       "      <td>360.0</td>\n",
       "      <td>1.0</td>\n",
       "      <td>Urban</td>\n",
       "      <td>Y</td>\n",
       "    </tr>\n",
       "    <tr>\n",
       "      <th>3</th>\n",
       "      <td>Male</td>\n",
       "      <td>Yes</td>\n",
       "      <td>0</td>\n",
       "      <td>Not Graduate</td>\n",
       "      <td>No</td>\n",
       "      <td>2583</td>\n",
       "      <td>2358.0</td>\n",
       "      <td>120.0</td>\n",
       "      <td>360.0</td>\n",
       "      <td>1.0</td>\n",
       "      <td>Urban</td>\n",
       "      <td>Y</td>\n",
       "    </tr>\n",
       "    <tr>\n",
       "      <th>4</th>\n",
       "      <td>Male</td>\n",
       "      <td>No</td>\n",
       "      <td>0</td>\n",
       "      <td>Graduate</td>\n",
       "      <td>No</td>\n",
       "      <td>6000</td>\n",
       "      <td>0.0</td>\n",
       "      <td>141.0</td>\n",
       "      <td>360.0</td>\n",
       "      <td>1.0</td>\n",
       "      <td>Urban</td>\n",
       "      <td>Y</td>\n",
       "    </tr>\n",
       "  </tbody>\n",
       "</table>\n",
       "</div>"
      ],
      "text/plain": [
       "  Gender Married Dependents     Education Self_Employed  ApplicantIncome  \\\n",
       "0   Male      No          0      Graduate            No             5849   \n",
       "1   Male     Yes          1      Graduate            No             4583   \n",
       "2   Male     Yes          0      Graduate           Yes             3000   \n",
       "3   Male     Yes          0  Not Graduate            No             2583   \n",
       "4   Male      No          0      Graduate            No             6000   \n",
       "\n",
       "   CoapplicantIncome  LoanAmount  Loan_Amount_Term  Credit_History  \\\n",
       "0                0.0         NaN             360.0             1.0   \n",
       "1             1508.0       128.0             360.0             1.0   \n",
       "2                0.0        66.0             360.0             1.0   \n",
       "3             2358.0       120.0             360.0             1.0   \n",
       "4                0.0       141.0             360.0             1.0   \n",
       "\n",
       "  Property_Area Loan_Status  \n",
       "0         Urban           Y  \n",
       "1         Rural           N  \n",
       "2         Urban           Y  \n",
       "3         Urban           Y  \n",
       "4         Urban           Y  "
      ]
     },
     "execution_count": 2,
     "metadata": {},
     "output_type": "execute_result"
    }
   ],
   "source": [
    "data = pd.read_csv(\"data/loan.csv\")\n",
    "data.head()"
   ]
  },
  {
   "cell_type": "markdown",
   "id": "c76def09",
   "metadata": {},
   "source": [
    "#### Handling Missing Values"
   ]
  },
  {
   "cell_type": "code",
   "execution_count": 3,
   "id": "9ecf0eed",
   "metadata": {},
   "outputs": [
    {
     "name": "stdout",
     "output_type": "stream",
     "text": [
      "<class 'pandas.core.frame.DataFrame'>\n",
      "RangeIndex: 614 entries, 0 to 613\n",
      "Data columns (total 12 columns):\n",
      " #   Column             Non-Null Count  Dtype  \n",
      "---  ------             --------------  -----  \n",
      " 0   Gender             601 non-null    object \n",
      " 1   Married            611 non-null    object \n",
      " 2   Dependents         599 non-null    object \n",
      " 3   Education          614 non-null    object \n",
      " 4   Self_Employed      582 non-null    object \n",
      " 5   ApplicantIncome    614 non-null    int64  \n",
      " 6   CoapplicantIncome  614 non-null    float64\n",
      " 7   LoanAmount         592 non-null    float64\n",
      " 8   Loan_Amount_Term   600 non-null    float64\n",
      " 9   Credit_History     564 non-null    float64\n",
      " 10  Property_Area      614 non-null    object \n",
      " 11  Loan_Status        614 non-null    object \n",
      "dtypes: float64(4), int64(1), object(7)\n",
      "memory usage: 57.7+ KB\n"
     ]
    }
   ],
   "source": [
    "data.info()"
   ]
  },
  {
   "cell_type": "code",
   "execution_count": 4,
   "id": "e61dcfc8",
   "metadata": {},
   "outputs": [
    {
     "data": {
      "text/html": [
       "<div>\n",
       "<style scoped>\n",
       "    .dataframe tbody tr th:only-of-type {\n",
       "        vertical-align: middle;\n",
       "    }\n",
       "\n",
       "    .dataframe tbody tr th {\n",
       "        vertical-align: top;\n",
       "    }\n",
       "\n",
       "    .dataframe thead th {\n",
       "        text-align: right;\n",
       "    }\n",
       "</style>\n",
       "<table border=\"1\" class=\"dataframe\">\n",
       "  <thead>\n",
       "    <tr style=\"text-align: right;\">\n",
       "      <th></th>\n",
       "      <th>Gender</th>\n",
       "      <th>Married</th>\n",
       "      <th>Dependents</th>\n",
       "      <th>Education</th>\n",
       "      <th>Self_Employed</th>\n",
       "      <th>ApplicantIncome</th>\n",
       "      <th>CoapplicantIncome</th>\n",
       "      <th>LoanAmount</th>\n",
       "      <th>Loan_Amount_Term</th>\n",
       "      <th>Credit_History</th>\n",
       "      <th>Property_Area</th>\n",
       "      <th>Loan_Status</th>\n",
       "    </tr>\n",
       "  </thead>\n",
       "  <tbody>\n",
       "    <tr>\n",
       "      <th>104</th>\n",
       "      <td>Male</td>\n",
       "      <td>NaN</td>\n",
       "      <td>NaN</td>\n",
       "      <td>Graduate</td>\n",
       "      <td>No</td>\n",
       "      <td>3816</td>\n",
       "      <td>754.0</td>\n",
       "      <td>160.0</td>\n",
       "      <td>360.0</td>\n",
       "      <td>1.0</td>\n",
       "      <td>Urban</td>\n",
       "      <td>Y</td>\n",
       "    </tr>\n",
       "    <tr>\n",
       "      <th>228</th>\n",
       "      <td>Male</td>\n",
       "      <td>NaN</td>\n",
       "      <td>NaN</td>\n",
       "      <td>Graduate</td>\n",
       "      <td>No</td>\n",
       "      <td>4758</td>\n",
       "      <td>0.0</td>\n",
       "      <td>158.0</td>\n",
       "      <td>480.0</td>\n",
       "      <td>1.0</td>\n",
       "      <td>Semiurban</td>\n",
       "      <td>Y</td>\n",
       "    </tr>\n",
       "    <tr>\n",
       "      <th>435</th>\n",
       "      <td>Female</td>\n",
       "      <td>NaN</td>\n",
       "      <td>NaN</td>\n",
       "      <td>Graduate</td>\n",
       "      <td>No</td>\n",
       "      <td>10047</td>\n",
       "      <td>0.0</td>\n",
       "      <td>NaN</td>\n",
       "      <td>240.0</td>\n",
       "      <td>1.0</td>\n",
       "      <td>Semiurban</td>\n",
       "      <td>Y</td>\n",
       "    </tr>\n",
       "  </tbody>\n",
       "</table>\n",
       "</div>"
      ],
      "text/plain": [
       "     Gender Married Dependents Education Self_Employed  ApplicantIncome  \\\n",
       "104    Male     NaN        NaN  Graduate            No             3816   \n",
       "228    Male     NaN        NaN  Graduate            No             4758   \n",
       "435  Female     NaN        NaN  Graduate            No            10047   \n",
       "\n",
       "     CoapplicantIncome  LoanAmount  Loan_Amount_Term  Credit_History  \\\n",
       "104              754.0       160.0             360.0             1.0   \n",
       "228                0.0       158.0             480.0             1.0   \n",
       "435                0.0         NaN             240.0             1.0   \n",
       "\n",
       "    Property_Area Loan_Status  \n",
       "104         Urban           Y  \n",
       "228     Semiurban           Y  \n",
       "435     Semiurban           Y  "
      ]
     },
     "execution_count": 4,
     "metadata": {},
     "output_type": "execute_result"
    }
   ],
   "source": [
    "data[data[\"Married\"].isna()]"
   ]
  },
  {
   "cell_type": "code",
   "execution_count": 5,
   "id": "04f701d2",
   "metadata": {},
   "outputs": [],
   "source": [
    "data[\"Dependents\"] = data[\"Dependents\"].replace(\"3+\",\"3\").astype(\"Int64\")"
   ]
  },
  {
   "cell_type": "markdown",
   "id": "6a619cd9",
   "metadata": {},
   "source": [
    "To improve the handling of missing values, we first separate the data into two groups: approved and rejected applications."
   ]
  },
  {
   "cell_type": "code",
   "execution_count": 6,
   "id": "6cfac1ae",
   "metadata": {},
   "outputs": [
    {
     "name": "stdout",
     "output_type": "stream",
     "text": [
      "Number of approved: 422\n",
      "Number of rejevted: 192\n"
     ]
    }
   ],
   "source": [
    "df_approved = data[data[\"Loan_Status\"] == 'Y'].copy()\n",
    "df_rejected = data[data[\"Loan_Status\"] == 'N'].copy()\n",
    "\n",
    "print(f\"Number of approved: {len(df_approved)}\\nNumber of rejevted: {len(df_rejected)}\")"
   ]
  },
  {
   "cell_type": "markdown",
   "id": "1f4ee471",
   "metadata": {},
   "source": [
    "It is better to impute binary features using the mode and numerical features using the median."
   ]
  },
  {
   "cell_type": "code",
   "execution_count": 7,
   "id": "68fc4ef6",
   "metadata": {},
   "outputs": [
    {
     "name": "stdout",
     "output_type": "stream",
     "text": [
      "<class 'pandas.core.frame.DataFrame'>\n",
      "Index: 614 entries, 0 to 613\n",
      "Data columns (total 12 columns):\n",
      " #   Column             Non-Null Count  Dtype  \n",
      "---  ------             --------------  -----  \n",
      " 0   Gender             614 non-null    object \n",
      " 1   Married            614 non-null    object \n",
      " 2   Dependents         614 non-null    float64\n",
      " 3   Education          614 non-null    object \n",
      " 4   Self_Employed      614 non-null    object \n",
      " 5   ApplicantIncome    614 non-null    int64  \n",
      " 6   CoapplicantIncome  614 non-null    float64\n",
      " 7   LoanAmount         614 non-null    float64\n",
      " 8   Loan_Amount_Term   614 non-null    float64\n",
      " 9   Credit_History     614 non-null    object \n",
      " 10  Property_Area      614 non-null    object \n",
      " 11  Loan_Status        614 non-null    object \n",
      "dtypes: float64(4), int64(1), object(7)\n",
      "memory usage: 62.4+ KB\n"
     ]
    }
   ],
   "source": [
    "from sklearn.impute import SimpleImputer\n",
    "\n",
    "binary_cols = [\"Gender\", \"Self_Employed\", \"Loan_Status\", \"Credit_History\"]\n",
    "cat_cols = [\"Married\"]\n",
    "numeric_cols = [\"Dependents\", \"LoanAmount\", \"Loan_Amount_Term\"]\n",
    "\n",
    "binary_imputer = SimpleImputer(strategy=\"most_frequent\")\n",
    "cat_imputer = SimpleImputer(strategy=\"most_frequent\")\n",
    "numeric_imputer = SimpleImputer(strategy=\"median\")\n",
    "\n",
    "def preprocess(df):\n",
    "    df[binary_cols] = binary_imputer.fit_transform(df[binary_cols])\n",
    "    df[numeric_cols] = numeric_imputer.fit_transform(df[numeric_cols])\n",
    "    mask = (df[\"CoapplicantIncome\"] != 0) & (df[\"Married\"].isna())\n",
    "    df.loc[mask, \"Married\"] = \"Yes\"\n",
    "    df[cat_cols] = cat_imputer.fit_transform(df[cat_cols])\n",
    "    return df\n",
    "\n",
    "df_approved = preprocess(df_approved)\n",
    "df_rejected = preprocess(df_rejected)\n",
    "\n",
    "data_clean = pd.concat([df_approved, df_rejected])\n",
    "data_clean.info()"
   ]
  },
  {
   "cell_type": "markdown",
   "id": "bc9161cb",
   "metadata": {},
   "source": [
    "#### Encoding Categorical Features"
   ]
  },
  {
   "cell_type": "code",
   "execution_count": 8,
   "id": "d438f147",
   "metadata": {},
   "outputs": [
    {
     "data": {
      "text/html": [
       "<div>\n",
       "<style scoped>\n",
       "    .dataframe tbody tr th:only-of-type {\n",
       "        vertical-align: middle;\n",
       "    }\n",
       "\n",
       "    .dataframe tbody tr th {\n",
       "        vertical-align: top;\n",
       "    }\n",
       "\n",
       "    .dataframe thead th {\n",
       "        text-align: right;\n",
       "    }\n",
       "</style>\n",
       "<table border=\"1\" class=\"dataframe\">\n",
       "  <thead>\n",
       "    <tr style=\"text-align: right;\">\n",
       "      <th></th>\n",
       "      <th>Gender</th>\n",
       "      <th>Married</th>\n",
       "      <th>Dependents</th>\n",
       "      <th>Education</th>\n",
       "      <th>Self_Employed</th>\n",
       "      <th>ApplicantIncome</th>\n",
       "      <th>CoapplicantIncome</th>\n",
       "      <th>LoanAmount</th>\n",
       "      <th>Loan_Amount_Term</th>\n",
       "      <th>Credit_History</th>\n",
       "      <th>Loan_Status</th>\n",
       "      <th>Property_Area_Rural</th>\n",
       "      <th>Property_Area_Semiurban</th>\n",
       "      <th>Property_Area_Urban</th>\n",
       "    </tr>\n",
       "  </thead>\n",
       "  <tbody>\n",
       "    <tr>\n",
       "      <th>0</th>\n",
       "      <td>1</td>\n",
       "      <td>0</td>\n",
       "      <td>0.0</td>\n",
       "      <td>1</td>\n",
       "      <td>0</td>\n",
       "      <td>5849</td>\n",
       "      <td>0.0</td>\n",
       "      <td>126.0</td>\n",
       "      <td>360.0</td>\n",
       "      <td>1.0</td>\n",
       "      <td>1</td>\n",
       "      <td>False</td>\n",
       "      <td>False</td>\n",
       "      <td>True</td>\n",
       "    </tr>\n",
       "    <tr>\n",
       "      <th>2</th>\n",
       "      <td>1</td>\n",
       "      <td>1</td>\n",
       "      <td>0.0</td>\n",
       "      <td>1</td>\n",
       "      <td>1</td>\n",
       "      <td>3000</td>\n",
       "      <td>0.0</td>\n",
       "      <td>66.0</td>\n",
       "      <td>360.0</td>\n",
       "      <td>1.0</td>\n",
       "      <td>1</td>\n",
       "      <td>False</td>\n",
       "      <td>False</td>\n",
       "      <td>True</td>\n",
       "    </tr>\n",
       "    <tr>\n",
       "      <th>3</th>\n",
       "      <td>1</td>\n",
       "      <td>1</td>\n",
       "      <td>0.0</td>\n",
       "      <td>0</td>\n",
       "      <td>0</td>\n",
       "      <td>2583</td>\n",
       "      <td>2358.0</td>\n",
       "      <td>120.0</td>\n",
       "      <td>360.0</td>\n",
       "      <td>1.0</td>\n",
       "      <td>1</td>\n",
       "      <td>False</td>\n",
       "      <td>False</td>\n",
       "      <td>True</td>\n",
       "    </tr>\n",
       "    <tr>\n",
       "      <th>4</th>\n",
       "      <td>1</td>\n",
       "      <td>0</td>\n",
       "      <td>0.0</td>\n",
       "      <td>1</td>\n",
       "      <td>0</td>\n",
       "      <td>6000</td>\n",
       "      <td>0.0</td>\n",
       "      <td>141.0</td>\n",
       "      <td>360.0</td>\n",
       "      <td>1.0</td>\n",
       "      <td>1</td>\n",
       "      <td>False</td>\n",
       "      <td>False</td>\n",
       "      <td>True</td>\n",
       "    </tr>\n",
       "    <tr>\n",
       "      <th>5</th>\n",
       "      <td>1</td>\n",
       "      <td>1</td>\n",
       "      <td>2.0</td>\n",
       "      <td>1</td>\n",
       "      <td>1</td>\n",
       "      <td>5417</td>\n",
       "      <td>4196.0</td>\n",
       "      <td>267.0</td>\n",
       "      <td>360.0</td>\n",
       "      <td>1.0</td>\n",
       "      <td>1</td>\n",
       "      <td>False</td>\n",
       "      <td>False</td>\n",
       "      <td>True</td>\n",
       "    </tr>\n",
       "  </tbody>\n",
       "</table>\n",
       "</div>"
      ],
      "text/plain": [
       "   Gender  Married  Dependents  Education  Self_Employed  ApplicantIncome  \\\n",
       "0       1        0         0.0          1              0             5849   \n",
       "2       1        1         0.0          1              1             3000   \n",
       "3       1        1         0.0          0              0             2583   \n",
       "4       1        0         0.0          1              0             6000   \n",
       "5       1        1         2.0          1              1             5417   \n",
       "\n",
       "   CoapplicantIncome  LoanAmount  Loan_Amount_Term Credit_History  \\\n",
       "0                0.0       126.0             360.0            1.0   \n",
       "2                0.0        66.0             360.0            1.0   \n",
       "3             2358.0       120.0             360.0            1.0   \n",
       "4                0.0       141.0             360.0            1.0   \n",
       "5             4196.0       267.0             360.0            1.0   \n",
       "\n",
       "   Loan_Status  Property_Area_Rural  Property_Area_Semiurban  \\\n",
       "0            1                False                    False   \n",
       "2            1                False                    False   \n",
       "3            1                False                    False   \n",
       "4            1                False                    False   \n",
       "5            1                False                    False   \n",
       "\n",
       "   Property_Area_Urban  \n",
       "0                 True  \n",
       "2                 True  \n",
       "3                 True  \n",
       "4                 True  \n",
       "5                 True  "
      ]
     },
     "execution_count": 8,
     "metadata": {},
     "output_type": "execute_result"
    }
   ],
   "source": [
    "from sklearn.preprocessing import LabelEncoder\n",
    "\n",
    "data_encoded = data_clean.copy() \n",
    "\n",
    "binary_cols = [\"Gender\", \"Married\", \"Education\", \"Self_Employed\",\"Loan_Status\"]\n",
    "le = LabelEncoder()\n",
    "for col in binary_cols:\n",
    "    data_encoded[col] = le.fit_transform(data_encoded[col])\n",
    "\n",
    "data_encoded[\"Education\"] = 1 - data_encoded[\"Education\"]  # Recode Education: set Graduate = 1 and Not Graduate = 0\n",
    "\n",
    "data_encoded = pd.get_dummies(data_encoded, columns=[\"Property_Area\"], prefix=\"Property_Area\")\n",
    "\n",
    "data_encoded.head()"
   ]
  },
  {
   "cell_type": "markdown",
   "id": "be15aa47",
   "metadata": {},
   "source": [
    "#### Splitting the Data"
   ]
  },
  {
   "cell_type": "code",
   "execution_count": 9,
   "id": "272d2b6c",
   "metadata": {},
   "outputs": [
    {
     "name": "stdout",
     "output_type": "stream",
     "text": [
      "Training data size: (491, 13)\n",
      "Testing data size (123, 13)\n"
     ]
    }
   ],
   "source": [
    "from sklearn.model_selection import train_test_split\n",
    "\n",
    "X = data_encoded.drop(\"Loan_Status\",axis=1)\n",
    "y = data_encoded[\"Loan_Status\"]\n",
    "\n",
    "X_train, X_test, y_train, y_test = train_test_split(X, y, test_size=0.2, random_state=42, stratify=y)\n",
    "\n",
    "print(\"Training data size:\", X_train.shape)\n",
    "print(\"Testing data size\", X_test.shape)"
   ]
  },
  {
   "cell_type": "markdown",
   "id": "c498a8e8",
   "metadata": {},
   "source": [
    "#### Data Normalization"
   ]
  },
  {
   "cell_type": "code",
   "execution_count": 10,
   "id": "653da43b",
   "metadata": {},
   "outputs": [],
   "source": [
    "from sklearn.preprocessing import StandardScaler\n",
    "\n",
    "numerical_cols = [\"ApplicantIncome\", \"CoapplicantIncome\", \"LoanAmount\", \"Loan_Amount_Term\"]\n",
    "\n",
    "X_train_normalized = X_train.copy()\n",
    "X_test_normalized = X_test.copy()\n",
    "\n",
    "scaler = StandardScaler()\n",
    "X_train_normalized[numerical_cols] = scaler.fit_transform(X_train[numerical_cols])\n",
    "X_test_normalized[numerical_cols] = scaler.transform(X_test[numerical_cols])"
   ]
  },
  {
   "cell_type": "markdown",
   "id": "4ac4f7b5",
   "metadata": {},
   "source": [
    "#### Model Training"
   ]
  },
  {
   "cell_type": "markdown",
   "id": "84256630",
   "metadata": {},
   "source": [
    "#### Logitic Regression"
   ]
  },
  {
   "cell_type": "code",
   "execution_count": 38,
   "id": "3ea413c2",
   "metadata": {},
   "outputs": [
    {
     "name": "stdout",
     "output_type": "stream",
     "text": [
      "Best Logistic Regression Params: {'C': 0.1, 'penalty': 'l1'}\n",
      "Best Score: 0.7983714698000413\n"
     ]
    }
   ],
   "source": [
    "from sklearn.linear_model import LogisticRegression\n",
    "from sklearn.model_selection import GridSearchCV\n",
    "\n",
    "model = LogisticRegression(solver='liblinear')\n",
    "\n",
    "param_grid = {\n",
    "    'C': [0.01, 0.1, 1, 10, 100],\n",
    "    'penalty': ['l1', 'l2']        \n",
    "}\n",
    "\n",
    "grid_search = GridSearchCV(estimator=model, param_grid=param_grid, cv=5, scoring='accuracy')\n",
    "grid_search.fit(X_train_normalized, y_train)\n",
    "\n",
    "print(\"Best Logistic Regression Params:\", grid_search.best_params_)\n",
    "print(\"Best Score:\", grid_search.best_score_)"
   ]
  },
  {
   "cell_type": "markdown",
   "id": "08c9c52e",
   "metadata": {},
   "source": [
    "**Time spent: 0.2s**    \n",
    "Best Logistic Regression Params: {'C': 0.1, 'penalty': 'l1'}    \n",
    "Best Score: 0.7983714698000413"
   ]
  },
  {
   "cell_type": "code",
   "execution_count": 14,
   "id": "cf891e2f",
   "metadata": {},
   "outputs": [
    {
     "name": "stdout",
     "output_type": "stream",
     "text": [
      "Without normalization: 0.8617886178861789\n",
      "With normalization: 0.8536585365853658\n"
     ]
    }
   ],
   "source": [
    "from sklearn.linear_model import LogisticRegression\n",
    "from sklearn.metrics import accuracy_score\n",
    "\n",
    "model_lr = LogisticRegression(solver=\"liblinear\", C=10, penalty=\"l1\")\n",
    "model_lr.fit(X_train, y_train)\n",
    "y_pred_lr = model_lr.predict(X_test)\n",
    "accuracy_lr = accuracy_score(y_test, y_pred_lr)\n",
    "\n",
    "model_lr_normalized = LogisticRegression(\n",
    "    solver=\"liblinear\",  # Solver optimized for small datasets and supports L1 penalty\n",
    "    C=0.1,               # Inverse of regularization strength; smaller values imply stronger regularization\n",
    "    penalty=\"l1\"         # L1 regularization (Lasso), which can lead to sparse coefficients (feature selection)\n",
    ")\n",
    "\n",
    "model_lr_normalized.fit(X_train_normalized, y_train)\n",
    "y_pred_lr_norm = model_lr_normalized.predict(X_test_normalized)\n",
    "accuracy_lr_norm = accuracy_score(y_test, y_pred_lr_norm)\n",
    "\n",
    "print(f\"Without normalization: {accuracy_lr}\\nWith normalization: {accuracy_lr_norm}\")"
   ]
  },
  {
   "cell_type": "markdown",
   "id": "c46127d9",
   "metadata": {},
   "source": [
    "### KNN"
   ]
  },
  {
   "cell_type": "code",
   "execution_count": 40,
   "id": "497aa40c",
   "metadata": {},
   "outputs": [
    {
     "name": "stdout",
     "output_type": "stream",
     "text": [
      "Best KNN Params: {'metric': 'manhattan', 'n_neighbors': 7, 'weights': 'uniform'}\n",
      "Best Score: 0.7210265924551639\n"
     ]
    }
   ],
   "source": [
    "from sklearn.neighbors import KNeighborsClassifier\n",
    "\n",
    "model = KNeighborsClassifier()\n",
    "\n",
    "param_grid = {\n",
    "    'n_neighbors': [3, 5, 7, 9, 11],\n",
    "    'weights': ['uniform', 'distance'],\n",
    "    'metric': ['euclidean', 'manhattan']\n",
    "}\n",
    "\n",
    "grid_search = GridSearchCV(estimator=model, param_grid=param_grid, cv=5, scoring='accuracy')\n",
    "grid_search.fit(X_train_normalized, y_train)\n",
    "\n",
    "print(\"Best KNN Params:\", grid_search.best_params_)\n",
    "print(\"Best Score:\", grid_search.best_score_)"
   ]
  },
  {
   "cell_type": "markdown",
   "id": "66d998a6",
   "metadata": {},
   "source": [
    "**Time spent: 0.5s**     \n",
    "Best Logistic Regression Params: {'C': 0.1, 'penalty': 'l1'}    \n",
    "Best Score: 0.7983714698000413"
   ]
  },
  {
   "cell_type": "code",
   "execution_count": 13,
   "id": "ff2bf9e9",
   "metadata": {},
   "outputs": [
    {
     "name": "stdout",
     "output_type": "stream",
     "text": [
      "Without normalization: 0.6747967479674797\n",
      "With normalization: 0.7398373983739838\n"
     ]
    }
   ],
   "source": [
    "from sklearn.neighbors import KNeighborsClassifier\n",
    "\n",
    "model_knn = KNeighborsClassifier(n_neighbors=11, weights=\"uniform\", metric=\"manhattan\")\n",
    "model_knn.fit(X_train, y_train)\n",
    "y_pred_knn = model_knn.predict(X_test)\n",
    "accuracy_knn = accuracy_score(y_test, y_pred_knn)\n",
    "\n",
    "model_knn_normalized = KNeighborsClassifier(\n",
    "    n_neighbors=7,           # Number of nearest neighbors to use for prediction (k=7)\n",
    "    weights=\"uniform\",       # All neighbors are weighted equally (no distance-based weighting)\n",
    "    metric=\"manhattan\"       # Manhattan distance (L1 norm) is used to measure distance between points\n",
    ")\n",
    "\n",
    "model_knn_normalized.fit(X_train_normalized, y_train)\n",
    "y_pred_knn_norm = model_knn_normalized.predict(X_test_normalized)\n",
    "accuracy_knn_norm = accuracy_score(y_test, y_pred_knn_norm)\n",
    "\n",
    "print(f\"Without normalization: {accuracy_knn}\\nWith normalization: {accuracy_knn_norm}\")"
   ]
  },
  {
   "cell_type": "markdown",
   "id": "37012e17",
   "metadata": {},
   "source": [
    "#### ANN(MLP)"
   ]
  },
  {
   "cell_type": "code",
   "execution_count": 42,
   "id": "b2a42f5b",
   "metadata": {},
   "outputs": [
    {
     "name": "stdout",
     "output_type": "stream",
     "text": [
      "Fitting 5 folds for each of 864 candidates, totalling 4320 fits\n",
      "Best MLP Params: {'mlp__activation': 'relu', 'mlp__alpha': 0.0001, 'mlp__batch_size': 32, 'mlp__hidden_layer_sizes': (50, 50), 'mlp__learning_rate_init': 0.01, 'mlp__max_iter': 200, 'mlp__solver': 'sgd'}\n",
      "Best Score: 0.7596522133167182\n"
     ]
    }
   ],
   "source": [
    "from sklearn.neural_network import MLPClassifier\n",
    "from sklearn.model_selection import GridSearchCV\n",
    "from sklearn.pipeline import Pipeline\n",
    "from sklearn.preprocessing import StandardScaler\n",
    "from sklearn.metrics import accuracy_score\n",
    "import warnings\n",
    "warnings.filterwarnings('ignore')\n",
    "\n",
    "\n",
    "mlp_pipe = Pipeline([\n",
    "    ('scaler', StandardScaler()),\n",
    "    ('mlp', MLPClassifier(early_stopping=True, random_state=42))\n",
    "])\n",
    "\n",
    "param_grid = {\n",
    "    'mlp__hidden_layer_sizes': [(50,), (100,), (50, 50), (100, 50)],\n",
    "    'mlp__activation': ['relu', 'tanh', 'logistic'],\n",
    "    'mlp__alpha': [0.0001, 0.001, 0.01], \n",
    "    'mlp__learning_rate_init': [0.001, 0.01],\n",
    "    'mlp__batch_size': [32, 64, 128],\n",
    "    'mlp__solver': ['adam', 'sgd'],\n",
    "    'mlp__max_iter': [200, 300]\n",
    "}\n",
    "\n",
    "scoring = {\n",
    "    'accuracy': 'accuracy',\n",
    "    'f1': 'f1_weighted',\n",
    "    'roc_auc': 'roc_auc_ovr'\n",
    "}\n",
    "\n",
    "mlp_grid = GridSearchCV(\n",
    "    estimator=mlp_pipe,\n",
    "    param_grid=param_grid,\n",
    "    scoring=scoring,\n",
    "    refit='roc_auc',\n",
    "    cv=5,\n",
    "    n_jobs=-1,\n",
    "    verbose=2\n",
    ")\n",
    "\n",
    "mlp_grid.fit(X_train, y_train)\n",
    "\n",
    "print(\"Best MLP Params:\", mlp_grid.best_params_)\n",
    "print(\"Best Score:\", mlp_grid.best_score_)"
   ]
  },
  {
   "cell_type": "markdown",
   "id": "80c37639",
   "metadata": {},
   "source": [
    "**Time spent: 35.7s**        \n",
    "Best MLP Params: {'mlp__activation': 'relu', 'mlp__alpha': 0.0001, 'mlp__batch_size': 32, 'mlp__hidden_layer_sizes': (50, 50), 'mlp__learning_rate_init': 0.01, 'mlp__max_iter': 200, 'mlp__solver': 'sgd'}     \n",
    "Best Score: 0.7596522133167182"
   ]
  },
  {
   "cell_type": "code",
   "execution_count": 15,
   "id": "a5dcb8e5",
   "metadata": {},
   "outputs": [
    {
     "name": "stdout",
     "output_type": "stream",
     "text": [
      "Without normalization: 0.6747967479674797\n",
      "With normalization: 0.8699186991869918\n"
     ]
    }
   ],
   "source": [
    "from sklearn.neural_network import MLPClassifier\n",
    "\n",
    "model_mlp = MLPClassifier(random_state=42)\n",
    "model_mlp.fit(X_train, y_train)\n",
    "y_pred_mlp = model_mlp.predict(X_test)\n",
    "accuracy_mlp = accuracy_score(y_test, y_pred_mlp)\n",
    "\n",
    "model_mlp_normalized = MLPClassifier(\n",
    "    activation='relu',            # Activation function for the hidden layers; 'relu' helps with non-linearity and avoids vanishing gradients\n",
    "    alpha=0.0001,                 # L2 regularization term to prevent overfitting\n",
    "    batch_size=32,               # Number of samples per mini-batch during training\n",
    "    hidden_layer_sizes=(50, 50), # Two hidden layers, each with 50 neurons\n",
    "    learning_rate_init=0.01,     # Initial learning rate for weight updates\n",
    "    random_state=42,             # Ensures reproducibility by fixing the random seed\n",
    "    max_iter=200,                # Maximum number of training iterations (epochs)\n",
    "    solver='sgd',                # Optimizer used for weight updates; 'sgd' stands for stochastic gradient descent\n",
    "    early_stopping=True          # Stops training early if validation score doesn't improve, to prevent overfitting\n",
    ")\n",
    "\n",
    "\n",
    "model_mlp_normalized.fit(X_train_normalized, y_train)\n",
    "y_pred_mlp_norm = model_mlp_normalized.predict(X_test_normalized)\n",
    "accuracy_mlp_norm = accuracy_score(y_test, y_pred_mlp_norm)\n",
    "\n",
    "print(f\"Without normalization: {accuracy_mlp}\\nWith normalization: {accuracy_mlp_norm}\")"
   ]
  },
  {
   "cell_type": "markdown",
   "id": "4ae3f467",
   "metadata": {},
   "source": [
    "### Model Comparison"
   ]
  },
  {
   "cell_type": "markdown",
   "id": "9dbe3890",
   "metadata": {},
   "source": [
    "In the **Logistic Regression** model, unlike distance-based models, normalization does not always lead to improved performance. In fact, in our experiment, the model's accuracy was slightly higher without normalization. This may be due to the model's reliance on the original distribution of features and the information embedded in their scales.\n"
   ]
  },
  {
   "cell_type": "code",
   "execution_count": 44,
   "id": "47038c7a",
   "metadata": {},
   "outputs": [
    {
     "name": "stdout",
     "output_type": "stream",
     "text": [
      "Logistic Regression: Mean = 0.805, Std = 0.025\n",
      "KNN: Mean = 0.637, Std = 0.029\n",
      "MLP: Mean = 0.689, Std = 0.003\n"
     ]
    }
   ],
   "source": [
    "from sklearn.model_selection import cross_val_score, StratifiedKFold\n",
    "\n",
    "models = {\n",
    "    \"Logistic Regression\": model_lr_normalized,\n",
    "    \"KNN\": model_knn_normalized,\n",
    "    \"MLP\": model_mlp_normalized\n",
    "}\n",
    "\n",
    "cv = StratifiedKFold(n_splits=5, shuffle=True, random_state=42)\n",
    "\n",
    "for name, model in models.items():\n",
    "    scores = cross_val_score(model, X, y, cv=cv, scoring='accuracy')\n",
    "    print(f\"{name}: Mean = {scores.mean():.3f}, Std = {scores.std():.3f}\")"
   ]
  },
  {
   "cell_type": "code",
   "execution_count": 45,
   "id": "4faa8030",
   "metadata": {},
   "outputs": [
    {
     "name": "stdout",
     "output_type": "stream",
     "text": [
      "--- Logistic Regression ---\n",
      "              precision    recall  f1-score   support\n",
      "\n",
      "           0       0.95      0.55      0.70        38\n",
      "           1       0.83      0.99      0.90        85\n",
      "\n",
      "    accuracy                           0.85       123\n",
      "   macro avg       0.89      0.77      0.80       123\n",
      "weighted avg       0.87      0.85      0.84       123\n",
      "\n"
     ]
    },
    {
     "data": {
      "image/png": "[encoded data removed]",
      "text/plain": [
       "<Figure size 640x480 with 2 Axes>"
      ]
     },
     "metadata": {},
     "output_type": "display_data"
    },
    {
     "name": "stdout",
     "output_type": "stream",
     "text": [
      "--- K-Nearest Neighbors ---\n",
      "              precision    recall  f1-score   support\n",
      "\n",
      "           0       0.71      0.26      0.38        38\n",
      "           1       0.74      0.95      0.84        85\n",
      "\n",
      "    accuracy                           0.74       123\n",
      "   macro avg       0.73      0.61      0.61       123\n",
      "weighted avg       0.73      0.74      0.70       123\n",
      "\n"
     ]
    },
    {
     "data": {
      "image/png": "[encoded data removed]",
      "text/plain": [
       "<Figure size 640x480 with 2 Axes>"
      ]
     },
     "metadata": {},
     "output_type": "display_data"
    },
    {
     "name": "stdout",
     "output_type": "stream",
     "text": [
      "--- MLP Neural Network ---\n",
      "              precision    recall  f1-score   support\n",
      "\n",
      "           0       0.96      0.61      0.74        38\n",
      "           1       0.85      0.99      0.91        85\n",
      "\n",
      "    accuracy                           0.87       123\n",
      "   macro avg       0.90      0.80      0.83       123\n",
      "weighted avg       0.88      0.87      0.86       123\n",
      "\n"
     ]
    },
    {
     "data": {
      "image/png": "[encoded data removed]",
      "text/plain": [
       "<Figure size 640x480 with 2 Axes>"
      ]
     },
     "metadata": {},
     "output_type": "display_data"
    },
    {
     "name": "stdout",
     "output_type": "stream",
     "text": [
      "\n",
      "📊 Summary of Model Performance:\n",
      "                 Model  Accuracy  Precision    Recall  F1 Score       AUC\n",
      "0  Logistic Regression  0.853659   0.831683  0.988235  0.903226  0.836068\n",
      "1  K-Nearest Neighbors  0.739837   0.743119  0.952941  0.835052  0.763467\n",
      "2   MLP Neural Network  0.869919   0.848485  0.988235  0.913043  0.835913\n"
     ]
    },
    {
     "data": {
      "image/png": "[encoded data removed]",
      "text/plain": [
       "<Figure size 1000x600 with 1 Axes>"
      ]
     },
     "metadata": {},
     "output_type": "display_data"
    }
   ],
   "source": [
    "from sklearn.metrics import (\n",
    "    accuracy_score, precision_score, recall_score,\n",
    "    f1_score, roc_auc_score, classification_report,\n",
    "    ConfusionMatrixDisplay\n",
    ")\n",
    "\n",
    "models = {\n",
    "    \"Logistic Regression\": model_lr_normalized,\n",
    "    \"K-Nearest Neighbors\": model_knn_normalized,\n",
    "    \"MLP Neural Network\": model_mlp_normalized\n",
    "}\n",
    "\n",
    "results = []\n",
    "\n",
    "for name, model in models.items():\n",
    "    y_pred = model.predict(X_test_normalized)\n",
    "\n",
    "    if hasattr(model, \"predict_proba\"):\n",
    "        y_proba = model.predict_proba(X_test_normalized)[:, 1]\n",
    "    elif hasattr(model, \"decision_function\"):\n",
    "        y_proba = model.decision_function(X_test_normalized)\n",
    "    else:\n",
    "        y_proba = None\n",
    "\n",
    "    auc = roc_auc_score(y_test, y_proba) if y_proba is not None else np.nan\n",
    "\n",
    "    results.append({\n",
    "        \"Model\": name,\n",
    "        \"Accuracy\": accuracy_score(y_test, y_pred),\n",
    "        \"Precision\": precision_score(y_test, y_pred, average='binary'),\n",
    "        \"Recall\": recall_score(y_test, y_pred, average='binary'),\n",
    "        \"F1 Score\": f1_score(y_test, y_pred, average='binary'),\n",
    "        \"AUC\": auc\n",
    "    })\n",
    "\n",
    "    print(f\"--- {name} ---\")\n",
    "    print(classification_report(y_test, y_pred))\n",
    "    ConfusionMatrixDisplay.from_predictions(y_test, y_pred)\n",
    "    plt.title(f'Confusion Matrix: {name}')\n",
    "    plt.show()\n",
    "\n",
    "results_df = pd.DataFrame(results)\n",
    "print(\"\\n📊 Summary of Model Performance:\")\n",
    "print(results_df)\n",
    "\n",
    "results_df.set_index(\"Model\").T.plot(kind=\"bar\", figsize=(10, 6), colormap=\"Set2\")\n",
    "plt.title(\"Model Comparison Based on Classification Metrics\")\n",
    "plt.ylabel(\"Score\")\n",
    "plt.xticks(rotation=45)\n",
    "plt.grid(True)\n",
    "plt.tight_layout()\n",
    "plt.show()\n"
   ]
  },
  {
   "cell_type": "markdown",
   "id": "50f242ba",
   "metadata": {},
   "source": [
    "#### Test Models on Test Dataset"
   ]
  },
  {
   "cell_type": "code",
   "execution_count": 46,
   "id": "933f8913",
   "metadata": {},
   "outputs": [
    {
     "data": {
      "text/html": [
       "<div>\n",
       "<style scoped>\n",
       "    .dataframe tbody tr th:only-of-type {\n",
       "        vertical-align: middle;\n",
       "    }\n",
       "\n",
       "    .dataframe tbody tr th {\n",
       "        vertical-align: top;\n",
       "    }\n",
       "\n",
       "    .dataframe thead th {\n",
       "        text-align: right;\n",
       "    }\n",
       "</style>\n",
       "<table border=\"1\" class=\"dataframe\">\n",
       "  <thead>\n",
       "    <tr style=\"text-align: right;\">\n",
       "      <th></th>\n",
       "      <th>Gender</th>\n",
       "      <th>Married</th>\n",
       "      <th>Dependents</th>\n",
       "      <th>Education</th>\n",
       "      <th>Self_Employed</th>\n",
       "      <th>ApplicantIncome</th>\n",
       "      <th>CoapplicantIncome</th>\n",
       "      <th>LoanAmount</th>\n",
       "      <th>Loan_Amount_Term</th>\n",
       "      <th>Credit_History</th>\n",
       "      <th>Property_Area</th>\n",
       "    </tr>\n",
       "  </thead>\n",
       "  <tbody>\n",
       "    <tr>\n",
       "      <th>0</th>\n",
       "      <td>Male</td>\n",
       "      <td>Yes</td>\n",
       "      <td>0</td>\n",
       "      <td>Graduate</td>\n",
       "      <td>No</td>\n",
       "      <td>5720</td>\n",
       "      <td>0</td>\n",
       "      <td>110.0</td>\n",
       "      <td>360.0</td>\n",
       "      <td>1.0</td>\n",
       "      <td>Urban</td>\n",
       "    </tr>\n",
       "    <tr>\n",
       "      <th>1</th>\n",
       "      <td>Male</td>\n",
       "      <td>Yes</td>\n",
       "      <td>1</td>\n",
       "      <td>Graduate</td>\n",
       "      <td>No</td>\n",
       "      <td>3076</td>\n",
       "      <td>1500</td>\n",
       "      <td>126.0</td>\n",
       "      <td>360.0</td>\n",
       "      <td>1.0</td>\n",
       "      <td>Urban</td>\n",
       "    </tr>\n",
       "    <tr>\n",
       "      <th>2</th>\n",
       "      <td>Male</td>\n",
       "      <td>Yes</td>\n",
       "      <td>2</td>\n",
       "      <td>Graduate</td>\n",
       "      <td>No</td>\n",
       "      <td>5000</td>\n",
       "      <td>1800</td>\n",
       "      <td>208.0</td>\n",
       "      <td>360.0</td>\n",
       "      <td>1.0</td>\n",
       "      <td>Urban</td>\n",
       "    </tr>\n",
       "    <tr>\n",
       "      <th>3</th>\n",
       "      <td>Male</td>\n",
       "      <td>Yes</td>\n",
       "      <td>2</td>\n",
       "      <td>Graduate</td>\n",
       "      <td>No</td>\n",
       "      <td>2340</td>\n",
       "      <td>2546</td>\n",
       "      <td>100.0</td>\n",
       "      <td>360.0</td>\n",
       "      <td>NaN</td>\n",
       "      <td>Urban</td>\n",
       "    </tr>\n",
       "    <tr>\n",
       "      <th>4</th>\n",
       "      <td>Male</td>\n",
       "      <td>No</td>\n",
       "      <td>0</td>\n",
       "      <td>Not Graduate</td>\n",
       "      <td>No</td>\n",
       "      <td>3276</td>\n",
       "      <td>0</td>\n",
       "      <td>78.0</td>\n",
       "      <td>360.0</td>\n",
       "      <td>1.0</td>\n",
       "      <td>Urban</td>\n",
       "    </tr>\n",
       "  </tbody>\n",
       "</table>\n",
       "</div>"
      ],
      "text/plain": [
       "  Gender Married Dependents     Education Self_Employed  ApplicantIncome  \\\n",
       "0   Male     Yes          0      Graduate            No             5720   \n",
       "1   Male     Yes          1      Graduate            No             3076   \n",
       "2   Male     Yes          2      Graduate            No             5000   \n",
       "3   Male     Yes          2      Graduate            No             2340   \n",
       "4   Male      No          0  Not Graduate            No             3276   \n",
       "\n",
       "   CoapplicantIncome  LoanAmount  Loan_Amount_Term  Credit_History  \\\n",
       "0                  0       110.0             360.0             1.0   \n",
       "1               1500       126.0             360.0             1.0   \n",
       "2               1800       208.0             360.0             1.0   \n",
       "3               2546       100.0             360.0             NaN   \n",
       "4                  0        78.0             360.0             1.0   \n",
       "\n",
       "  Property_Area  \n",
       "0         Urban  \n",
       "1         Urban  \n",
       "2         Urban  \n",
       "3         Urban  \n",
       "4         Urban  "
      ]
     },
     "execution_count": 46,
     "metadata": {},
     "output_type": "execute_result"
    }
   ],
   "source": [
    "test_data = pd.read_csv(\"data/test.csv\")\n",
    "test_data.head()"
   ]
  },
  {
   "cell_type": "code",
   "execution_count": 47,
   "id": "e0f38db1",
   "metadata": {},
   "outputs": [
    {
     "name": "stdout",
     "output_type": "stream",
     "text": [
      "<class 'pandas.core.frame.DataFrame'>\n",
      "RangeIndex: 367 entries, 0 to 366\n",
      "Data columns (total 11 columns):\n",
      " #   Column             Non-Null Count  Dtype  \n",
      "---  ------             --------------  -----  \n",
      " 0   Gender             356 non-null    object \n",
      " 1   Married            367 non-null    object \n",
      " 2   Dependents         357 non-null    object \n",
      " 3   Education          367 non-null    object \n",
      " 4   Self_Employed      344 non-null    object \n",
      " 5   ApplicantIncome    367 non-null    int64  \n",
      " 6   CoapplicantIncome  367 non-null    int64  \n",
      " 7   LoanAmount         362 non-null    float64\n",
      " 8   Loan_Amount_Term   361 non-null    float64\n",
      " 9   Credit_History     338 non-null    float64\n",
      " 10  Property_Area      367 non-null    object \n",
      "dtypes: float64(3), int64(2), object(6)\n",
      "memory usage: 31.7+ KB\n"
     ]
    }
   ],
   "source": [
    "test_data.info()"
   ]
  },
  {
   "cell_type": "code",
   "execution_count": 48,
   "id": "cdffa53f",
   "metadata": {},
   "outputs": [
    {
     "name": "stdout",
     "output_type": "stream",
     "text": [
      "<class 'pandas.core.frame.DataFrame'>\n",
      "RangeIndex: 367 entries, 0 to 366\n",
      "Data columns (total 11 columns):\n",
      " #   Column             Non-Null Count  Dtype  \n",
      "---  ------             --------------  -----  \n",
      " 0   Gender             367 non-null    object \n",
      " 1   Married            367 non-null    object \n",
      " 2   Dependents         367 non-null    float64\n",
      " 3   Education          367 non-null    object \n",
      " 4   Self_Employed      367 non-null    object \n",
      " 5   ApplicantIncome    367 non-null    int64  \n",
      " 6   CoapplicantIncome  367 non-null    int64  \n",
      " 7   LoanAmount         367 non-null    float64\n",
      " 8   Loan_Amount_Term   367 non-null    float64\n",
      " 9   Credit_History     367 non-null    object \n",
      " 10  Property_Area      367 non-null    object \n",
      "dtypes: float64(3), int64(2), object(6)\n",
      "memory usage: 31.7+ KB\n"
     ]
    }
   ],
   "source": [
    "clean_test_data = test_data.copy()\n",
    "\n",
    "clean_test_data[\"Dependents\"] = data[\"Dependents\"].replace(\"3+\",\"3\").astype(\"Int64\")\n",
    "\n",
    "binary_cols = [\"Gender\", \"Self_Employed\", \"Credit_History\"]\n",
    "other_cols = [\"Dependents\", \"LoanAmount\", \"Loan_Amount_Term\"]\n",
    "\n",
    "clean_test_data = preprocess(clean_test_data)    \n",
    "\n",
    "clean_test_data.info()"
   ]
  },
  {
   "cell_type": "code",
   "execution_count": 49,
   "id": "2263fbc0",
   "metadata": {},
   "outputs": [
    {
     "data": {
      "text/html": [
       "<div>\n",
       "<style scoped>\n",
       "    .dataframe tbody tr th:only-of-type {\n",
       "        vertical-align: middle;\n",
       "    }\n",
       "\n",
       "    .dataframe tbody tr th {\n",
       "        vertical-align: top;\n",
       "    }\n",
       "\n",
       "    .dataframe thead th {\n",
       "        text-align: right;\n",
       "    }\n",
       "</style>\n",
       "<table border=\"1\" class=\"dataframe\">\n",
       "  <thead>\n",
       "    <tr style=\"text-align: right;\">\n",
       "      <th></th>\n",
       "      <th>Gender</th>\n",
       "      <th>Married</th>\n",
       "      <th>Dependents</th>\n",
       "      <th>Education</th>\n",
       "      <th>Self_Employed</th>\n",
       "      <th>ApplicantIncome</th>\n",
       "      <th>CoapplicantIncome</th>\n",
       "      <th>LoanAmount</th>\n",
       "      <th>Loan_Amount_Term</th>\n",
       "      <th>Credit_History</th>\n",
       "      <th>Property_Area_Rural</th>\n",
       "      <th>Property_Area_Semiurban</th>\n",
       "      <th>Property_Area_Urban</th>\n",
       "    </tr>\n",
       "  </thead>\n",
       "  <tbody>\n",
       "    <tr>\n",
       "      <th>0</th>\n",
       "      <td>1</td>\n",
       "      <td>1</td>\n",
       "      <td>0.0</td>\n",
       "      <td>1</td>\n",
       "      <td>0</td>\n",
       "      <td>5720</td>\n",
       "      <td>0</td>\n",
       "      <td>110.0</td>\n",
       "      <td>360.0</td>\n",
       "      <td>1.0</td>\n",
       "      <td>False</td>\n",
       "      <td>False</td>\n",
       "      <td>True</td>\n",
       "    </tr>\n",
       "    <tr>\n",
       "      <th>1</th>\n",
       "      <td>1</td>\n",
       "      <td>1</td>\n",
       "      <td>1.0</td>\n",
       "      <td>1</td>\n",
       "      <td>0</td>\n",
       "      <td>3076</td>\n",
       "      <td>1500</td>\n",
       "      <td>126.0</td>\n",
       "      <td>360.0</td>\n",
       "      <td>1.0</td>\n",
       "      <td>False</td>\n",
       "      <td>False</td>\n",
       "      <td>True</td>\n",
       "    </tr>\n",
       "    <tr>\n",
       "      <th>2</th>\n",
       "      <td>1</td>\n",
       "      <td>1</td>\n",
       "      <td>0.0</td>\n",
       "      <td>1</td>\n",
       "      <td>0</td>\n",
       "      <td>5000</td>\n",
       "      <td>1800</td>\n",
       "      <td>208.0</td>\n",
       "      <td>360.0</td>\n",
       "      <td>1.0</td>\n",
       "      <td>False</td>\n",
       "      <td>False</td>\n",
       "      <td>True</td>\n",
       "    </tr>\n",
       "    <tr>\n",
       "      <th>3</th>\n",
       "      <td>1</td>\n",
       "      <td>1</td>\n",
       "      <td>0.0</td>\n",
       "      <td>1</td>\n",
       "      <td>0</td>\n",
       "      <td>2340</td>\n",
       "      <td>2546</td>\n",
       "      <td>100.0</td>\n",
       "      <td>360.0</td>\n",
       "      <td>1.0</td>\n",
       "      <td>False</td>\n",
       "      <td>False</td>\n",
       "      <td>True</td>\n",
       "    </tr>\n",
       "    <tr>\n",
       "      <th>4</th>\n",
       "      <td>1</td>\n",
       "      <td>0</td>\n",
       "      <td>0.0</td>\n",
       "      <td>0</td>\n",
       "      <td>0</td>\n",
       "      <td>3276</td>\n",
       "      <td>0</td>\n",
       "      <td>78.0</td>\n",
       "      <td>360.0</td>\n",
       "      <td>1.0</td>\n",
       "      <td>False</td>\n",
       "      <td>False</td>\n",
       "      <td>True</td>\n",
       "    </tr>\n",
       "  </tbody>\n",
       "</table>\n",
       "</div>"
      ],
      "text/plain": [
       "   Gender  Married  Dependents  Education  Self_Employed  ApplicantIncome  \\\n",
       "0       1        1         0.0          1              0             5720   \n",
       "1       1        1         1.0          1              0             3076   \n",
       "2       1        1         0.0          1              0             5000   \n",
       "3       1        1         0.0          1              0             2340   \n",
       "4       1        0         0.0          0              0             3276   \n",
       "\n",
       "   CoapplicantIncome  LoanAmount  Loan_Amount_Term Credit_History  \\\n",
       "0                  0       110.0             360.0            1.0   \n",
       "1               1500       126.0             360.0            1.0   \n",
       "2               1800       208.0             360.0            1.0   \n",
       "3               2546       100.0             360.0            1.0   \n",
       "4                  0        78.0             360.0            1.0   \n",
       "\n",
       "   Property_Area_Rural  Property_Area_Semiurban  Property_Area_Urban  \n",
       "0                False                    False                 True  \n",
       "1                False                    False                 True  \n",
       "2                False                    False                 True  \n",
       "3                False                    False                 True  \n",
       "4                False                    False                 True  "
      ]
     },
     "execution_count": 49,
     "metadata": {},
     "output_type": "execute_result"
    }
   ],
   "source": [
    "encoded_test_data = clean_test_data.copy()\n",
    "\n",
    "from sklearn.preprocessing import LabelEncoder\n",
    "\n",
    "binary_cols = [\"Gender\", \"Married\", \"Education\", \"Self_Employed\"]\n",
    "le = LabelEncoder()\n",
    "for col in binary_cols:\n",
    "    encoded_test_data[col] = le.fit_transform(encoded_test_data[col])\n",
    "\n",
    "encoded_test_data[\"Education\"] = 1 - encoded_test_data[\"Education\"]\n",
    "\n",
    "encoded_test_data = pd.get_dummies(encoded_test_data, columns=[\"Property_Area\"], prefix=\"Property_Area\")\n",
    "\n",
    "encoded_test_data.head()"
   ]
  },
  {
   "cell_type": "code",
   "execution_count": 50,
   "id": "3c94966a",
   "metadata": {},
   "outputs": [
    {
     "name": "stdout",
     "output_type": "stream",
     "text": [
      "Logistic: [232 135]\n",
      "KNN: [ 86 281]\n",
      "ANN: [200 167]\n"
     ]
    }
   ],
   "source": [
    "X_test_ = encoded_test_data.copy()\n",
    "\n",
    "print(\"Logistic:\", np.bincount(model_lr_normalized.predict(X_test_)))\n",
    "print(\"KNN:\", np.bincount(model_knn_normalized.predict(X_test_)))\n",
    "print(\"ANN:\", np.bincount(model_mlp_normalized.predict(X_test_)))\n"
   ]
  },
  {
   "cell_type": "markdown",
   "id": "78a6f814",
   "metadata": {},
   "source": [
    "## 🧾 Model Performance Evaluation and Selection Report\n",
    "\n",
    "### 🔍 Evaluation Summary\n",
    "\n",
    "Three classification models were trained and evaluated for a binary classification task. Performance was assessed using a standard **train/test split** as well as **5-fold stratified cross-validation (CV)** to evaluate generalization.\n",
    "\n",
    "#### 📊 Performance (Train/Test Split)\n",
    "\n",
    "| Model               | Accuracy  | Precision | Recall | F1 Score  | AUC   |\n",
    "| ------------------- | --------- | --------- | ------ | --------- | ----- |\n",
    "| Logistic Regression | 0.854     | 0.832     | 0.988  | 0.903     | 0.836 |\n",
    "| K-Nearest Neighbors | 0.740     | 0.743     | 0.953  | 0.835     | 0.763 |\n",
    "| MLP Neural Network  | **0.870** | 0.848     | 0.988  | **0.913** | 0.836 |\n",
    "\n",
    "#### 📈 Cross-Validation (5-Fold Stratified CV)\n",
    "\n",
    "| Model               | Mean Accuracy | Std Dev |\n",
    "| ------------------- | ------------- | ------- |\n",
    "| Logistic Regression | **0.805**     | ±0.025  |\n",
    "| K-Nearest Neighbors | 0.637         | ±0.029  |\n",
    "| MLP Neural Network  | 0.689         | ±0.003  |\n",
    "\n",
    "---\n",
    "\n",
    "### 📌 Class Prediction Distributions on Test Set\n",
    "\n",
    "| Model               | Predicted \\[0, 1] |\n",
    "| ------------------- | ----------------- |\n",
    "| Logistic Regression | \\[232, 135]       |\n",
    "| K-Nearest Neighbors | \\[86, 281]        |\n",
    "| MLP Neural Network  | \\[200, 167]       |\n",
    "\n",
    "> ⚠️ Note: Class `1` represents the **positive class** (e.g., loan approved).\n",
    "\n",
    "---\n",
    "\n",
    "### 🧠 Interpretation\n",
    "\n",
    "#### ✅ **MLP Neural Network**\n",
    "\n",
    "* Achieved the **highest accuracy and F1 score** on the test set.\n",
    "* Maintains a **high recall (0.988)**, meaning very few false negatives.\n",
    "* **BUT**, it shows **low cross-validation performance (Mean = 0.689)**, suggesting **possible overfitting** to the train/test split.\n",
    "* Class prediction ratio \\[200, 167] is fairly balanced, which is good.\n",
    "\n",
    "#### ✅ **Logistic Regression**\n",
    "\n",
    "* Slightly lower accuracy on the test set (0.854 vs. 0.870), but still strong overall.\n",
    "* **Most stable and reliable model** with the highest CV accuracy (0.805 ± 0.025).\n",
    "* Very **high recall (0.988)** and solid precision and AUC.\n",
    "* Predicted class distribution \\[232, 135] is balanced and realistic.\n",
    "\n",
    "#### ⚠️ **K-Nearest Neighbors**\n",
    "\n",
    "* Performs significantly worse in both CV and test split.\n",
    "* Class distribution \\[86, 281] shows **strong class imbalance**, overpredicting class `1`.\n",
    "* Least reliable for generalization.\n",
    "\n",
    "---\n",
    "\n",
    "### ✅ Final Decision: **Best Model**\n",
    "\n",
    "While the **MLP Neural Network** appears strongest on the test set, its **poor cross-validation performance** and potential overfitting are red flags.\n",
    "\n",
    "> **Therefore, the recommended final model is: 🔹 Logistic Regression**\n",
    "\n",
    "#### Why?\n",
    "\n",
    "* Consistently high performance across metrics\n",
    "* Strong **generalization** (highest CV accuracy)\n",
    "* Balanced predictions\n",
    "* Simpler, interpretable, and computationally efficient"
   ]
  }
 ],
 "metadata": {
  "kernelspec": {
   "display_name": "Python 3",
   "language": "python",
   "name": "python3"
  },
  "language_info": {
   "codemirror_mode": {
    "name": "ipython",
    "version": 3
   },
   "file_extension": ".py",
   "mimetype": "text/x-python",
   "name": "python",
   "nbconvert_exporter": "python",
   "pygments_lexer": "ipython3",
   "version": "3.11.5"
  }
 },
 "nbformat": 4,
 "nbformat_minor": 5
}
